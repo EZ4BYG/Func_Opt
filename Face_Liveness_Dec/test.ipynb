{
 "cells": [
  {
   "cell_type": "code",
   "execution_count": 1,
   "metadata": {},
   "outputs": [],
   "source": [
    "import numpy as np\n",
    "import matplotlib.pyplot as plt\n",
    "import tensorflow as tf\n",
    "import glob\n",
    "import os\n",
    "import random"
   ]
  },
  {
   "cell_type": "code",
   "execution_count": 2,
   "metadata": {},
   "outputs": [],
   "source": [
    "# gpu配置：\n",
    "gpus = tf.config.experimental.list_physical_devices( device_type = 'GPU' )\n",
    "tf.config.experimental.set_visible_devices( devices = gpus[0:3], device_type = 'GPU' )"
   ]
  },
  {
   "cell_type": "code",
   "execution_count": 4,
   "metadata": {},
   "outputs": [],
   "source": [
    "# 测试数据预处理：\n",
    "def preprocessing_test(path, label):\n",
    "    # 数据读入：image\n",
    "    image = tf.io.read_file( path )                       # 文件读取\n",
    "    image = tf.image.decode_jpeg( image, channels = 3 )   # 文件解码成jpg图片，并给定图片的通道数（默认为0！）\n",
    "    # 等比缩放：resize\n",
    "    image = tf.image.resize( image, [256,256] )           # 等比缩放，不要选裁剪！\n",
    "    image = tf.cast( image, tf.float32 )                  # 转换数据类型：读入默认是int8\n",
    "    image = image / 255                                   # 归一化\n",
    "    # 标签：label\n",
    "    label = tf.reshape( label, [1] )\n",
    "    # 返回结果：\n",
    "    return image, label"
   ]
  },
  {
   "cell_type": "code",
   "execution_count": 5,
   "metadata": {},
   "outputs": [
    {
     "name": "stdout",
     "output_type": "stream",
     "text": [
      "180/180 [==============================] - 23s 130ms/step - loss: 0.0063 - acc: 0.9976\n"
     ]
    },
    {
     "data": {
      "text/plain": [
       "[0.006279106717556715, 0.9975694417953491]"
      ]
     },
     "execution_count": 5,
     "metadata": {},
     "output_type": "execute_result"
    }
   ],
   "source": [
    "# 模型导入：\n",
    "model_new = tf.keras.models.load_model( '../model_h5/model_large.h5' )\n",
    "\n",
    "# 导入测试数据：\n",
    "test_path = glob.glob('../test_new1/*')\n",
    "# 随机打散：\n",
    "random.shuffle( test_path )  # 无返回值，直接在原变量上做改变\n",
    "# 提取标签：\n",
    "test_label = [] \n",
    "for x in range( len(test_path) ):\n",
    "    label = int( test_path[x].split('/')[-1].split('.')[0].split('_')[-1] )\n",
    "    if label == 1:\n",
    "        test_label.append(1)  # 真人\n",
    "    else:\n",
    "        test_label.append(0)  # 图片\n",
    "        \n",
    "# 创建数据集：\n",
    "test_dataset = tf.data.Dataset.from_tensor_slices( (test_path, test_label) )  # path + label\n",
    "# 加batch维度：\n",
    "AUTOTUNE = tf.data.experimental.AUTOTUNE   # 新操作：在tf.data模块使用时，会自动根据cpu来情况进行并行计算处理！\n",
    "BATCH_SIZE = 16\n",
    "test_dataset = test_dataset.map( preprocessing_test, num_parallel_calls = AUTOTUNE )\n",
    "test_dataset = test_dataset.cache().batch(BATCH_SIZE)\n",
    "test_dataset\n",
    "\n",
    "# 测试：\n",
    "model_new.evaluate(test_dataset)"
   ]
  },
  {
   "cell_type": "code",
   "execution_count": null,
   "metadata": {},
   "outputs": [],
   "source": []
  }
 ],
 "metadata": {
  "kernelspec": {
   "display_name": "Python 3",
   "language": "python",
   "name": "python3"
  },
  "language_info": {
   "codemirror_mode": {
    "name": "ipython",
    "version": 3
   },
   "file_extension": ".py",
   "mimetype": "text/x-python",
   "name": "python",
   "nbconvert_exporter": "python",
   "pygments_lexer": "ipython3",
   "version": "3.7.6"
  }
 },
 "nbformat": 4,
 "nbformat_minor": 4
}
